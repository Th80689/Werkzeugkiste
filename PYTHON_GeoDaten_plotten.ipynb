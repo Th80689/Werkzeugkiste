{
 "cells": [
  {
   "cell_type": "code",
   "execution_count": null,
   "id": "352ad7fc",
   "metadata": {},
   "outputs": [],
   "source": [
    "# Beispiel: Schul-Distrikte mit Farbpalette und Legende links oben \n",
    "\n",
    "# Set legend style\n",
    "lgnd_kwds = {'title': 'School Districts',\n",
    "               'loc': 'upper left', 'bbox_to_anchor': (1, 1.03), 'ncol': 1}\n",
    "\n",
    "# Plot the school districts using the tab20 colormap (qualitative)\n",
    "school_districts.plot(column = 'district', cmap = 'tab20', legend = True, legend_kwds = lgnd_kwds)\n",
    "plt.xlabel('Longitude')\n",
    "plt.ylabel('Latitude')\n",
    "plt.title('Nashville School Districts')"
   ]
  }
 ],
 "metadata": {
  "language_info": {
   "name": "python"
  }
 },
 "nbformat": 4,
 "nbformat_minor": 5
}
