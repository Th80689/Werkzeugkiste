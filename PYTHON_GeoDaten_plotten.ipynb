{
 "cells": [
  {
   "cell_type": "code",
   "execution_count": null,
   "id": "352ad7fc",
   "metadata": {},
   "outputs": [],
   "source": [
    "# Beispiel: Schul-Distrikte mit Farbpalette und Legende links oben \n",
    "\n",
    "# notwendige Packages\n",
    "import geopandas as gpd\n",
    "import matplotlib.pyplot as plt\n",
    "from shapely.geometry import Point\n",
    "\n",
    "\n",
    "# Read in data file\n",
    "neighborhoods = gpd.read_file(neighborhoods_path)\n",
    "\n",
    "# Koordinaten-Standards:\n",
    "## EPSG:4326 : in Winkel-Grad\n",
    "## EPSG:3857 : in Dezimal-System (km)\n",
    "\n",
    "\n",
    "# Create art_dist_meters using art and the geometry from art\n",
    "art_dist_meters = gpd.GeoDataFrame(art, geometry = art.geometry, crs = 'epsg:4326')\n",
    "\n",
    "# Set the crs of art_dist_meters to use EPSG:3857\n",
    "art_dist_meters.geometry = art_dist_meters.geometry.to_crs(crs = 3857)\n",
    "print(art_dist_meters.head(2))\n",
    "\n",
    "# Add a column to art_meters, center\n",
    "art_dist_meters['center'] = center_point\n",
    "\n",
    "# Import package for pretty printing\n",
    "import pprint\n",
    "\n",
    "# Build a dictionary of titles and distances for Urban Residents art\n",
    "art_distances = {}\n",
    "for row in art.iterrows():\n",
    "    vals = row[1]\n",
    "    key = vals['title']\n",
    "    ctr = vals['center']\n",
    "    art_distances[key] = vals['geometry'].distance(other = ctr)\n",
    "\n",
    "# Pretty print the art_distances\n",
    "pprint.pprint(art_distances)\n",
    "# Set legend style\n",
    "lgnd_kwds = {'title': 'School Districts',\n",
    "            'loc': 'upper left', 'bbox_to_anchor': (1, 1.03), 'ncol': 1}\n",
    "\n",
    "# Plot the school districts using the tab20 colormap (qualitative)\n",
    "school_districts.plot(column = 'district', cmap = 'tab20', legend = True, legend_kwds = lgnd_kwds)\n",
    "plt.xlabel('Longitude')\n",
    "plt.ylabel('Latitude')\n",
    "plt.title('Nashville School Districts')"
   ]
  }
 ],
 "metadata": {
  "language_info": {
   "name": "python"
  }
 },
 "nbformat": 4,
 "nbformat_minor": 5
}
